{
 "cells": [
  {
   "cell_type": "markdown",
   "metadata": {},
   "source": [
    "# Extending ASDF"
   ]
  },
  {
   "cell_type": "markdown",
   "metadata": {},
   "source": [
    "One of the most useful features of ASDF is the ability to extend it to enable the serialization of arbitrary custom types. In this tutorial we will demonstrate how to use the extension mechanism to allow ASDF to process custom types. See the official documentation for [Extending ASDF](https://asdf.readthedocs.io/en/latest/asdf/extensions.html) for more details."
   ]
  },
  {
   "cell_type": "markdown",
   "metadata": {},
   "source": [
    "## A Simple Example"
   ]
  },
  {
   "cell_type": "markdown",
   "metadata": {},
   "source": [
    "The built-in `fractions` module provides a simple `Fraction` type. ASDF does not know how to serialize this type out of the box, so it makes for a good simple example of how to develop a custom type extension.\n",
    "\n",
    "First, we'll create an instance of `Fraction`:"
   ]
  },
  {
   "cell_type": "code",
   "execution_count": null,
   "metadata": {},
   "outputs": [],
   "source": [
    "from fractions import Fraction\n",
    "f = Fraction(2, 3)"
   ]
  },
  {
   "cell_type": "markdown",
   "metadata": {},
   "source": [
    "Next we'll create a tree containing our `Fraction` and try to write it out to an ASDF file:"
   ]
  },
  {
   "cell_type": "code",
   "execution_count": null,
   "metadata": {},
   "outputs": [],
   "source": [
    "import asdf\n",
    "tree = dict(fraction=f)\n",
    "af = asdf.AsdfFile(tree)\n",
    "af.write_to('fraction.asdf')"
   ]
  },
  {
   "cell_type": "markdown",
   "metadata": {},
   "source": [
    "We get a `RepresenterError` which indicates that ASDF doesn't know how to store this object. So what can we do?"
   ]
  },
  {
   "cell_type": "markdown",
   "metadata": {},
   "source": [
    "### Tag Classes"
   ]
  },
  {
   "cell_type": "markdown",
   "metadata": {},
   "source": [
    "We need to tell ASDF how to convert an instance of `Fraction` into a YAML representation. We do this by writing a \"tag\" class that defines how `Fraction` should be converted into a YAML node (or \"tree\"). All custom tag types for ASDF inherit from `asdf.CustomType` and override the `to_tree` class method. We also define several class-level attributes that provide information to ASDF about how our custom type should be labeled (or tagged, in YAML parlance) in the tree:"
   ]
  },
  {
   "cell_type": "code",
   "execution_count": null,
   "metadata": {},
   "outputs": [],
   "source": [
    "class FractionType(asdf.CustomType):\n",
    "    # An arbitrary name that ASDF will use for the type being serialized\n",
    "    name = 'fraction'\n",
    "    # Corresponds to the organization that defines this type.\n",
    "    # (e.g. stsci.edu, astropy.org, etc.)\n",
    "    organization = 'example.org'\n",
    "    # The name of the \"standard\" that this type belongs to.\n",
    "    # In general this will correspond to the name of the package defining the type.\n",
    "    # (e.g. asdf, gwcs, astropy, etc.)\n",
    "    standard = 'custom'\n",
    "    # The version of the type. By convention new types begin at 1.0.0.\n",
    "    version = '1.0.0'\n",
    "    # A list of the types that will be serialized by this tag class.\n",
    "    types = [Fraction]\n",
    "\n",
    "    @classmethod\n",
    "    def to_tree(cls, node, ctx):\n",
    "        \"\"\"\n",
    "        Takes an instance of Fraction as input and converts it into a tree representation.\n",
    "        \n",
    "        By convention, the instance argument is named `node`, although in this case it will\n",
    "        be an instance of `Fraction`. The argument name is arbitrary.\n",
    "        \n",
    "        This function must return a basic Python type that corresponds to the YAML node that will\n",
    "        be written to represent this type. In most cases, this function will return a `dict`.\n",
    "        \n",
    "        `ctx` is the `AsdfFile` instance that is being written out. It is not used in this example.\n",
    "        \"\"\"\n",
    "        tree = dict()\n",
    "        # This is where we define the way that the attributes of a Fraction instance are\n",
    "        # represented in a YAML tree.\n",
    "        tree['numerator'] = node.numerator\n",
    "        tree['denominator'] = node.denominator\n",
    "        return tree"
   ]
  },
  {
   "cell_type": "markdown",
   "metadata": {},
   "source": [
    "For more details about the attributes and methods of `asdf.CustomType` see the [API documentation](https://asdf.readthedocs.io/en/latest/api/asdf.CustomType.html#asdf.CustomType)."
   ]
  },
  {
   "cell_type": "markdown",
   "metadata": {},
   "source": [
    "### Extension Classes"
   ]
  },
  {
   "cell_type": "markdown",
   "metadata": {},
   "source": [
    "Our `FractionType` class defines how an instance of `Fraction` can be written to a YAML tree. But this is not enough. We still need to tell ASDF how to find `FractionType` and use it when writing out a file. For this, we have to define an \"extension\" class. All custom ASDF extensions inherit from `asdf.AsdfExtension`."
   ]
  },
  {
   "cell_type": "code",
   "execution_count": null,
   "metadata": {},
   "outputs": [],
   "source": [
    "class CustomFractionExtension(asdf.AsdfExtension):\n",
    "    @property\n",
    "    def types(self):\n",
    "        \"\"\"\n",
    "        Returns a list of tag classes that are implemented by this extension.\n",
    "        \"\"\"\n",
    "        return [FractionType]\n",
    "    \n",
    "    @property\n",
    "    def tag_mapping(self):\n",
    "        \"\"\"\n",
    "        This property must be an array but can be ignored for now.\n",
    "        \"\"\"\n",
    "        return []\n",
    "    \n",
    "    @property\n",
    "    def url_mapping(self):\n",
    "        \"\"\"\n",
    "        This property must be an array but can be ignored for now.\n",
    "        \"\"\"\n",
    "        return []"
   ]
  },
  {
   "cell_type": "markdown",
   "metadata": {},
   "source": [
    "At a minimum, our extension must implement the `types` property to indicate which tag classes are provided by this extension. The `tag_mapping` and `url_mapping` properties must also be overridden, but are not used for the sake of this example (we'll cover them later). For more details about the `asdf.AsdfExtension` base class see the [API Documentation](https://asdf.readthedocs.io/en/latest/api/asdf.AsdfExtension.html#asdf.AsdfExtension).\n",
    "\n",
    "### Connecting the Pieces\n",
    "\n",
    "Now we can try to write out our ASDF file containing a `Fraction` instance. We simply need to tell ASDF to use our extension when writing:"
   ]
  },
  {
   "cell_type": "code",
   "execution_count": null,
   "metadata": {},
   "outputs": [],
   "source": [
    "af = asdf.AsdfFile(tree, extensions=CustomFractionExtension())\n",
    "af.write_to('fraction.asdf')"
   ]
  },
  {
   "cell_type": "markdown",
   "metadata": {},
   "source": [
    "It worked! Let's look at the contents of the file we created:"
   ]
  },
  {
   "cell_type": "code",
   "execution_count": null,
   "metadata": {},
   "outputs": [],
   "source": [
    "!cat fraction.asdf"
   ]
  },
  {
   "cell_type": "markdown",
   "metadata": {},
   "source": [
    "Notice that ASDF used the `name`, `organization`, `standard`, and `version` attributes that we defined in `FractionType` to create a YAML tag for the node that represents our `Fraction` instance.\n",
    "\n",
    "### Reading the File\n",
    "\n",
    "But what happens when we try to read this new file?"
   ]
  },
  {
   "cell_type": "code",
   "execution_count": null,
   "metadata": {},
   "outputs": [],
   "source": [
    "new_af = asdf.open('fraction.asdf')"
   ]
  },
  {
   "cell_type": "markdown",
   "metadata": {},
   "source": [
    "Reading the file works, but notice that we get a few warnings:\n",
    "> AsdfConversionWarning: tag:example.org:custom/fraction-1.0.0 is not recognized, converting to raw Python data structure\n",
    "\n",
    "Also:\n",
    "> UserWarning: File 'file:///Users/dan/stsci/asdf-notebooks/fraction.asdf' was created with extension '\\_\\_main\\_\\_.CustomFractionExtension\n",
    "\n",
    "Notice that the tree appears to be valid, but it does not contain a `Fraction` instance:"
   ]
  },
  {
   "cell_type": "code",
   "execution_count": null,
   "metadata": {},
   "outputs": [],
   "source": [
    "new_af.tree"
   ]
  },
  {
   "cell_type": "markdown",
   "metadata": {},
   "source": [
    "This is because we didn't use our `CustomFractionExtension` when reading the file. But even more important, we didn't define how to turn a YAML node back into a `Fraction` instance!\n",
    "\n",
    "We need to go back to our `FractionType` class and define another class method called `from_tree`. This method will take a Python data structure representing a YAML node as input and will return a `Fraction` instance:"
   ]
  },
  {
   "cell_type": "code",
   "execution_count": null,
   "metadata": {},
   "outputs": [],
   "source": [
    "class FractionType(asdf.CustomType):\n",
    "    name = 'fraction'\n",
    "    organization = 'example.org'\n",
    "    standard = 'custom'\n",
    "    version = '1.0.0'\n",
    "    types = [Fraction]\n",
    "\n",
    "    @classmethod\n",
    "    def to_tree(cls, node, ctx):\n",
    "        tree = dict()\n",
    "        tree['numerator'] = node.numerator\n",
    "        tree['denominator'] = node.denominator\n",
    "        return tree\n",
    "    \n",
    "    @classmethod\n",
    "    def from_tree(cls, tree, ctx):\n",
    "        \"\"\"\n",
    "        Takes a YAML data structure as input and returns an instance of Fraction\n",
    "        \n",
    "        By convention, the YAML data structure is named `tree`.\n",
    "        \n",
    "        `ctx` is the `AsdfFile` instance that is being written out. It is not used in this example.\n",
    "        \"\"\"\n",
    "        return Fraction(tree['numerator'], tree['denominator'])"
   ]
  },
  {
   "cell_type": "markdown",
   "metadata": {},
   "source": [
    "We need to redefine our extension class to reflect the update to `FractionType`:"
   ]
  },
  {
   "cell_type": "code",
   "execution_count": null,
   "metadata": {},
   "outputs": [],
   "source": [
    "class CustomFractionExtension(asdf.AsdfExtension):\n",
    "    @property\n",
    "    def types(self):\n",
    "        return [FractionType]\n",
    "    \n",
    "    @property\n",
    "    def tag_mapping(self):\n",
    "        return []\n",
    "    \n",
    "    @property\n",
    "    def url_mapping(self):\n",
    "        return []"
   ]
  },
  {
   "cell_type": "markdown",
   "metadata": {},
   "source": [
    "Now let's try to read the file using our updated tag class and extension:"
   ]
  },
  {
   "cell_type": "code",
   "execution_count": null,
   "metadata": {},
   "outputs": [],
   "source": [
    "new_af = asdf.open('fraction.asdf', extensions=CustomFractionExtension())\n",
    "new_af.tree"
   ]
  },
  {
   "cell_type": "markdown",
   "metadata": {},
   "source": [
    "It worked! Here's the proof:"
   ]
  },
  {
   "cell_type": "code",
   "execution_count": null,
   "metadata": {},
   "outputs": [],
   "source": [
    "isinstance(new_af.tree['fraction'], Fraction)"
   ]
  },
  {
   "cell_type": "markdown",
   "metadata": {},
   "source": [
    "## A More Complicated Example\n",
    "\n",
    "The YAML representation of `Fraction` contains only two top-level attributes, which are both basic Python types. This means that the `to_tree` and `from_tree` methods of our tag class are relatively straightforward. But what happens when we want to represent more complicated types in ASDF? We need to consider cases where the attributes of the type we are trying to represent are themselves more complicated types.\n",
    "\n",
    "To demonstrate this, we will use a fairly contrived example. We will define a class called `Fractional2DCoord` where each of the coordinate components is a `Fraction` instance:"
   ]
  },
  {
   "cell_type": "code",
   "execution_count": null,
   "metadata": {},
   "outputs": [],
   "source": [
    "class Fractional2DCoord:\n",
    "    \"\"\"\n",
    "    This class is silly. Why not just use a tuple?\n",
    "    \n",
    "    Okay fine, but in that case you need to come up with a better example.\n",
    "    \"\"\"\n",
    "    def __init__(self, x, y):\n",
    "        self.x = x\n",
    "        self.y = y\n",
    "        \n",
    "    def __repr__(self):\n",
    "        return \"<Fractional2DCoord({}, {})>\".format(repr(self.x), repr(self.y))"
   ]
  },
  {
   "cell_type": "markdown",
   "metadata": {},
   "source": [
    "Let's try to store an instance of `Fractional2DCoord` to ASDF using the extension we defined above:"
   ]
  },
  {
   "cell_type": "code",
   "execution_count": null,
   "metadata": {},
   "outputs": [],
   "source": [
    "x = Fraction(1, 2)\n",
    "y = Fraction(2, 3)\n",
    "coord = Fractional2DCoord(x, y)"
   ]
  },
  {
   "cell_type": "code",
   "execution_count": null,
   "metadata": {},
   "outputs": [],
   "source": [
    "tree = dict(coord=coord)\n",
    "coord_af = asdf.AsdfFile(tree, extensions=CustomFractionExtension())\n",
    "coord_af.write_to('coord.asdf')"
   ]
  },
  {
   "cell_type": "markdown",
   "metadata": {},
   "source": [
    "We get a `RepresenterError` since ASDF doesn't know how to serialize this type yet. So let's write the tag class:"
   ]
  },
  {
   "cell_type": "code",
   "execution_count": null,
   "metadata": {},
   "outputs": [],
   "source": [
    "from asdf.yamlutil import custom_tree_to_tagged_tree, tagged_tree_to_custom_tree\n",
    "\n",
    "class Fractional2DCoordType(asdf.CustomType):\n",
    "    name = 'fractional_2d_coord'\n",
    "    organization = 'example.org'\n",
    "    standard = 'custom'\n",
    "    version = '1.0.0'\n",
    "    types = [Fractional2DCoord]\n",
    "    \n",
    "    @classmethod\n",
    "    def to_tree(self, node, ctx):\n",
    "        tree = dict()\n",
    "        # These calls ensure that all custom types are processed recursively.\n",
    "        # In this case, it means that each coordinate component, which is a Fraction,\n",
    "        # will be processed by FractionType.to_tree.\n",
    "        tree['x'] = custom_tree_to_tagged_tree(node.x, ctx)\n",
    "        tree['y'] = custom_tree_to_tagged_tree(node.y, ctx)\n",
    "        return tree\n",
    "    \n",
    "    @classmethod\n",
    "    def from_tree(self, tree, ctx):\n",
    "        # This recurses through the tree and ensures each attribute gets converted\n",
    "        # to a custom type, if applicable. In this case, it means that each tree attribute\n",
    "        # is processed by FractionType.from_tree\n",
    "        x = tagged_tree_to_custom_tree(tree['x'], ctx)\n",
    "        y = tagged_tree_to_custom_tree(tree['y'], ctx)\n",
    "        return Fractional2DCoord(x, y)"
   ]
  },
  {
   "cell_type": "markdown",
   "metadata": {},
   "source": [
    "Note that our `to_tree` and `from_tree` methods make use of the `custom_tree_to_tagged_tree` and `tagged_tree_to_custom_tree` functions from `asdf.yamlutil`, respectively. These functions help us recursively process the subtrees, which ensures that the `to_tree` and `from_tree` methods specific to `Fraction` will be called automatically. (We could have also called `FractionType.to_tree` and `FractionType.from_tree` explicitly, but that would be more susceptible to being broken by future changes. The functions from `asdf.yamlutil` handle things in a more general way.)\n",
    "\n",
    "Note that the `name` attribute of `Fractional2DCoordType` reflects the type being represented, but the `organization` and `standard` attributes are the same as `FractionType`. This means that both tag classes can be represented by the same extension class, which we redefine below:"
   ]
  },
  {
   "cell_type": "code",
   "execution_count": null,
   "metadata": {},
   "outputs": [],
   "source": [
    "class CustomFractionExtension(asdf.AsdfExtension):\n",
    "    @property\n",
    "    def types(self):\n",
    "        # Note that both tag types now returned here\n",
    "        return [FractionType, Fractional2DCoordType]\n",
    "    \n",
    "    @property\n",
    "    def tag_mapping(self):\n",
    "        return []\n",
    "    \n",
    "    @property\n",
    "    def url_mapping(self):\n",
    "        return []"
   ]
  },
  {
   "cell_type": "markdown",
   "metadata": {},
   "source": [
    "Now let's try storing our `Fractional2DCoord` instance using the newly defined extension:"
   ]
  },
  {
   "cell_type": "code",
   "execution_count": null,
   "metadata": {},
   "outputs": [],
   "source": [
    "tree = dict(coord=coord)\n",
    "coord_af = asdf.AsdfFile(tree, extensions=CustomFractionExtension())\n",
    "coord_af.write_to('coord.asdf')"
   ]
  },
  {
   "cell_type": "markdown",
   "metadata": {},
   "source": [
    "It worked! Let's look at the resulting file:"
   ]
  },
  {
   "cell_type": "code",
   "execution_count": null,
   "metadata": {},
   "outputs": [],
   "source": [
    "!cat coord.asdf"
   ]
  },
  {
   "cell_type": "markdown",
   "metadata": {},
   "source": [
    "Note that our `coord` attribute got tagged as `tag:example.org:custom/fractional_2d_coord-1.0.0`, and the `x` and `y` attributes of that object were both tagged as `tag:example.org:custom/fraction-1.0.0`. It worked!\n",
    "\n",
    "Let's see what happens when we read the file:"
   ]
  },
  {
   "cell_type": "code",
   "execution_count": null,
   "metadata": {},
   "outputs": [],
   "source": [
    "read_coord = asdf.open('coord.asdf', extensions=CustomFractionExtension())\n",
    "# Using a shortcut here that enables us to get attributes from the top-level AsdfFile instead of using .tree\n",
    "read_coord['coord']"
   ]
  }
 ],
 "metadata": {
  "kernelspec": {
   "display_name": "Python 3",
   "language": "python",
   "name": "python3"
  },
  "language_info": {
   "codemirror_mode": {
    "name": "ipython",
    "version": 3
   },
   "file_extension": ".py",
   "mimetype": "text/x-python",
   "name": "python",
   "nbconvert_exporter": "python",
   "pygments_lexer": "ipython3",
   "version": "3.7.2"
  }
 },
 "nbformat": 4,
 "nbformat_minor": 2
}
