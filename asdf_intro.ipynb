{
 "cells": [
  {
   "cell_type": "markdown",
   "metadata": {},
   "source": [
    "# Introduction to ASDF"
   ]
  },
  {
   "cell_type": "markdown",
   "metadata": {},
   "source": [
    "The [Advanced Scientific Data Format](https://asdf-standard.readthedocs.io/en/latest/index.html) (ASDF) is a next-generation interchange format for scientific data.\n",
    "\n",
    "It has the following features:\n",
    "* A hierarchical, human-readable metadata format (implemented using YAML)\n",
    "* Numerical arrays are stored as binary data blocks which can be memory mapped. Data blocks can optionally be compressed.\n",
    "* The structure of the data can be automatically validated using schemas (implemented using JSON Schema)\n",
    "* Native Python data types (numerical types, strings, dicts, lists) are serialized automatically\n",
    "* Can be extended to serialize custom data types\n",
    "\n",
    "The reference implementation of ASDF is written in Python. It can be installed locally using `pip`:\n",
    "\n",
    "    $ pip install asdf\n",
    "    \n",
    "This tutorial will demonstrate the basic features and functionality of ASDF in Python."
   ]
  },
  {
   "cell_type": "code",
   "execution_count": null,
   "metadata": {},
   "outputs": [],
   "source": []
  }
 ],
 "metadata": {
  "kernelspec": {
   "display_name": "Python 3",
   "language": "python",
   "name": "python3"
  },
  "language_info": {
   "codemirror_mode": {
    "name": "ipython",
    "version": 3
   },
   "file_extension": ".py",
   "mimetype": "text/x-python",
   "name": "python",
   "nbconvert_exporter": "python",
   "pygments_lexer": "ipython3",
   "version": "3.7.2"
  }
 },
 "nbformat": 4,
 "nbformat_minor": 2
}
