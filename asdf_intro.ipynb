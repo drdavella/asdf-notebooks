{
 "cells": [
  {
   "cell_type": "markdown",
   "metadata": {},
   "source": [
    "# Introduction to ASDF"
   ]
  },
  {
   "cell_type": "markdown",
   "metadata": {},
   "source": [
    "The [Advanced Scientific Data Format](https://asdf-standard.readthedocs.io/en/latest/index.html) (ASDF) is a next-generation interchange format for scientific data.\n",
    "\n",
    "It has the following features:\n",
    "* A hierarchical, human-readable metadata format (implemented using YAML)\n",
    "* Numerical arrays are stored as binary data blocks which can be memory mapped. Data blocks can optionally be compressed.\n",
    "* The structure of the data can be automatically validated using schemas (implemented using JSON Schema)\n",
    "* Native Python data types (numerical types, strings, dicts, lists) are serialized automatically\n",
    "* Can be extended to serialize custom data types\n",
    "\n",
    "The reference implementation of ASDF is written in Python. It can be installed locally using `pip`:\n",
    "\n",
    "    $ pip install asdf\n",
    "    \n",
    "This tutorial will demonstrate the basic features and functionality of ASDF in Python."
   ]
  },
  {
   "cell_type": "markdown",
   "metadata": {},
   "source": [
    "## First Steps"
   ]
  },
  {
   "cell_type": "code",
   "execution_count": 1,
   "metadata": {},
   "outputs": [],
   "source": [
    "import asdf"
   ]
  },
  {
   "cell_type": "markdown",
   "metadata": {},
   "source": [
    "ASDF enables the storage of arbitrarily nested data structures to disk. \n",
    "\n",
    "The fundamental data object in ASDF is the tree, which is a nested combination of basic data structures: dictionaries, lists, strings and numbers. In practice, the top-level object that is passed to ASDF is a Python **dict**, which represents the tree.\n",
    "\n",
    "Let's begin with an example that contains a data array and some basic metadata:"
   ]
  },
  {
   "cell_type": "code",
   "execution_count": 2,
   "metadata": {},
   "outputs": [],
   "source": [
    "import numpy as np\n",
    "# Create a 2D data array\n",
    "data = np.ones((10, 10))\n",
    "# Create a perfectly arbitrary data structure containing metadata\n",
    "import time\n",
    "info = {'name': \"My Data\", 'author': \"Me\", 'time': time.time()}"
   ]
  },
  {
   "cell_type": "markdown",
   "metadata": {},
   "source": [
    "Now we create the top-level tree object (just a **dict**) which will be stored to ASDF:"
   ]
  },
  {
   "cell_type": "code",
   "execution_count": 3,
   "metadata": {},
   "outputs": [],
   "source": [
    "tree = {'data': data, 'metadata': info}"
   ]
  },
  {
   "cell_type": "markdown",
   "metadata": {},
   "source": [
    "The names of the attributes that we use in the tree are perfectly arbitrary, as well as the organization of the data and metadata. (**This is very powerful!**)\n",
    "\n",
    "Now let's create an **AsdfFile** object from our tree:"
   ]
  },
  {
   "cell_type": "code",
   "execution_count": 4,
   "metadata": {},
   "outputs": [],
   "source": [
    "af = asdf.AsdfFile(tree)"
   ]
  },
  {
   "cell_type": "markdown",
   "metadata": {},
   "source": [
    "We can access the original tree by using the **AsdfFile.tree** attribute:"
   ]
  },
  {
   "cell_type": "code",
   "execution_count": 5,
   "metadata": {},
   "outputs": [
    {
     "data": {
      "text/plain": [
       "{'data': array([[1., 1., 1., 1., 1., 1., 1., 1., 1., 1.],\n",
       "        [1., 1., 1., 1., 1., 1., 1., 1., 1., 1.],\n",
       "        [1., 1., 1., 1., 1., 1., 1., 1., 1., 1.],\n",
       "        [1., 1., 1., 1., 1., 1., 1., 1., 1., 1.],\n",
       "        [1., 1., 1., 1., 1., 1., 1., 1., 1., 1.],\n",
       "        [1., 1., 1., 1., 1., 1., 1., 1., 1., 1.],\n",
       "        [1., 1., 1., 1., 1., 1., 1., 1., 1., 1.],\n",
       "        [1., 1., 1., 1., 1., 1., 1., 1., 1., 1.],\n",
       "        [1., 1., 1., 1., 1., 1., 1., 1., 1., 1.],\n",
       "        [1., 1., 1., 1., 1., 1., 1., 1., 1., 1.]]),\n",
       " 'metadata': {'name': 'My Data', 'author': 'Me', 'time': 1553703366.963867}}"
      ]
     },
     "execution_count": 5,
     "metadata": {},
     "output_type": "execute_result"
    }
   ],
   "source": [
    "af.tree"
   ]
  },
  {
   "cell_type": "code",
   "execution_count": 6,
   "metadata": {},
   "outputs": [
    {
     "data": {
      "text/plain": [
       "array([[1., 1., 1., 1., 1., 1., 1., 1., 1., 1.],\n",
       "       [1., 1., 1., 1., 1., 1., 1., 1., 1., 1.],\n",
       "       [1., 1., 1., 1., 1., 1., 1., 1., 1., 1.],\n",
       "       [1., 1., 1., 1., 1., 1., 1., 1., 1., 1.],\n",
       "       [1., 1., 1., 1., 1., 1., 1., 1., 1., 1.],\n",
       "       [1., 1., 1., 1., 1., 1., 1., 1., 1., 1.],\n",
       "       [1., 1., 1., 1., 1., 1., 1., 1., 1., 1.],\n",
       "       [1., 1., 1., 1., 1., 1., 1., 1., 1., 1.],\n",
       "       [1., 1., 1., 1., 1., 1., 1., 1., 1., 1.],\n",
       "       [1., 1., 1., 1., 1., 1., 1., 1., 1., 1.]])"
      ]
     },
     "execution_count": 6,
     "metadata": {},
     "output_type": "execute_result"
    }
   ],
   "source": [
    "af.tree['data']"
   ]
  },
  {
   "cell_type": "code",
   "execution_count": 7,
   "metadata": {},
   "outputs": [
    {
     "data": {
      "text/plain": [
       "1553703366.963867"
      ]
     },
     "execution_count": 7,
     "metadata": {},
     "output_type": "execute_result"
    }
   ],
   "source": [
    "af.tree['metadata']['time']"
   ]
  },
  {
   "cell_type": "markdown",
   "metadata": {},
   "source": [
    "Let's store the **AsdfFile** object to disk using the **write_to** method:"
   ]
  },
  {
   "cell_type": "code",
   "execution_count": 8,
   "metadata": {},
   "outputs": [],
   "source": [
    "af.write_to('mydata.asdf')"
   ]
  },
  {
   "cell_type": "code",
   "execution_count": 9,
   "metadata": {},
   "outputs": [
    {
     "name": "stdout",
     "output_type": "stream",
     "text": [
      "#ASDF 1.0.0\r\n",
      "#ASDF_STANDARD 1.3.0\r\n",
      "%YAML 1.1\r\n",
      "%TAG ! tag:stsci.edu:asdf/\r\n",
      "--- !core/asdf-1.1.0\r\n",
      "asdf_library: !core/software-1.0.0\r\n",
      "  author: Space Telescope Science Institute\r\n",
      "  homepage: http://github.com/spacetelescope/asdf\r\n",
      "  name: asdf\r\n",
      "  version: 2.3.2\r\n",
      "history:\r\n",
      "  extensions:\r\n",
      "  - !core/extension_metadata-1.0.0\r\n",
      "    extension_class: asdf.extension.BuiltinExtension\r\n",
      "    software:\r\n",
      "      name: asdf\r\n",
      "      version: 2.3.2\r\n",
      "data: !core/ndarray-1.0.0\r\n",
      "  source: 0\r\n",
      "  datatype: float64\r\n",
      "  byteorder: little\r\n",
      "  shape:\r\n",
      "  - 10\r\n",
      "  - 10\r\n",
      "metadata:\r\n",
      "  author: Me\r\n",
      "  name: My Data\r\n",
      "  time: 1553703366.963867\r\n",
      "...\r\n",
      "�BLK\u00000\u0000\u0000\u0000\u0000\u0000\u0000\u0000\u0000\u0000\u0000\u0000\u0000\u0000\u0000\u0003 \u0000\u0000\u0000\u0000\u0000\u0000\u0003 \u0000\u0000\u0000\u0000\u0000\u0000\u0003 #v�7Yw\u0007\r",
      "�\"\t���*�\u0000\u0000\u0000\u0000\u0000\u0000�?\u0000\u0000\u0000\u0000\u0000\u0000�?\u0000\u0000\u0000\u0000\u0000\u0000�?\u0000\u0000\u0000\u0000\u0000\u0000�?\u0000\u0000\u0000\u0000\u0000\u0000�?\u0000\u0000\u0000\u0000\u0000\u0000�?\u0000\u0000\u0000\u0000\u0000\u0000�?\u0000\u0000\u0000\u0000\u0000\u0000�?\u0000\u0000\u0000\u0000\u0000\u0000�?\u0000\u0000\u0000\u0000\u0000\u0000�?\u0000\u0000\u0000\u0000\u0000\u0000�?\u0000\u0000\u0000\u0000\u0000\u0000�?\u0000\u0000\u0000\u0000\u0000\u0000�?\u0000\u0000\u0000\u0000\u0000\u0000�?\u0000\u0000\u0000\u0000\u0000\u0000�?\u0000\u0000\u0000\u0000\u0000\u0000�?\u0000\u0000\u0000\u0000\u0000\u0000�?\u0000\u0000\u0000\u0000\u0000\u0000�?\u0000\u0000\u0000\u0000\u0000\u0000�?\u0000\u0000\u0000\u0000\u0000\u0000�?\u0000\u0000\u0000\u0000\u0000\u0000�?\u0000\u0000\u0000\u0000\u0000\u0000�?\u0000\u0000\u0000\u0000\u0000\u0000�?\u0000\u0000\u0000\u0000\u0000\u0000�?\u0000\u0000\u0000\u0000\u0000\u0000�?\u0000\u0000\u0000\u0000\u0000\u0000�?\u0000\u0000\u0000\u0000\u0000\u0000�?\u0000\u0000\u0000\u0000\u0000\u0000�?\u0000\u0000\u0000\u0000\u0000\u0000�?\u0000\u0000\u0000\u0000\u0000\u0000�?\u0000\u0000\u0000\u0000\u0000\u0000�?\u0000\u0000\u0000\u0000\u0000\u0000�?\u0000\u0000\u0000\u0000\u0000\u0000�?\u0000\u0000\u0000\u0000\u0000\u0000�?\u0000\u0000\u0000\u0000\u0000\u0000�?\u0000\u0000\u0000\u0000\u0000\u0000�?\u0000\u0000\u0000\u0000\u0000\u0000�?\u0000\u0000\u0000\u0000\u0000\u0000�?\u0000\u0000\u0000\u0000\u0000\u0000�?\u0000\u0000\u0000\u0000\u0000\u0000�?\u0000\u0000\u0000\u0000\u0000\u0000�?\u0000\u0000\u0000\u0000\u0000\u0000�?\u0000\u0000\u0000\u0000\u0000\u0000�?\u0000\u0000\u0000\u0000\u0000\u0000�?\u0000\u0000\u0000\u0000\u0000\u0000�?\u0000\u0000\u0000\u0000\u0000\u0000�?\u0000\u0000\u0000\u0000\u0000\u0000�?\u0000\u0000\u0000\u0000\u0000\u0000�?\u0000\u0000\u0000\u0000\u0000\u0000�?\u0000\u0000\u0000\u0000\u0000\u0000�?\u0000\u0000\u0000\u0000\u0000\u0000�?\u0000\u0000\u0000\u0000\u0000\u0000�?\u0000\u0000\u0000\u0000\u0000\u0000�?\u0000\u0000\u0000\u0000\u0000\u0000�?\u0000\u0000\u0000\u0000\u0000\u0000�?\u0000\u0000\u0000\u0000\u0000\u0000�?\u0000\u0000\u0000\u0000\u0000\u0000�?\u0000\u0000\u0000\u0000\u0000\u0000�?\u0000\u0000\u0000\u0000\u0000\u0000�?\u0000\u0000\u0000\u0000\u0000\u0000�?\u0000\u0000\u0000\u0000\u0000\u0000�?\u0000\u0000\u0000\u0000\u0000\u0000�?\u0000\u0000\u0000\u0000\u0000\u0000�?\u0000\u0000\u0000\u0000\u0000\u0000�?\u0000\u0000\u0000\u0000\u0000\u0000�?\u0000\u0000\u0000\u0000\u0000\u0000�?\u0000\u0000\u0000\u0000\u0000\u0000�?\u0000\u0000\u0000\u0000\u0000\u0000�?\u0000\u0000\u0000\u0000\u0000\u0000�?\u0000\u0000\u0000\u0000\u0000\u0000�?\u0000\u0000\u0000\u0000\u0000\u0000�?\u0000\u0000\u0000\u0000\u0000\u0000�?\u0000\u0000\u0000\u0000\u0000\u0000�?\u0000\u0000\u0000\u0000\u0000\u0000�?\u0000\u0000\u0000\u0000\u0000\u0000�?\u0000\u0000\u0000\u0000\u0000\u0000�?\u0000\u0000\u0000\u0000\u0000\u0000�?\u0000\u0000\u0000\u0000\u0000\u0000�?\u0000\u0000\u0000\u0000\u0000\u0000�?\u0000\u0000\u0000\u0000\u0000\u0000�?\u0000\u0000\u0000\u0000\u0000\u0000�?\u0000\u0000\u0000\u0000\u0000\u0000�?\u0000\u0000\u0000\u0000\u0000\u0000�?\u0000\u0000\u0000\u0000\u0000\u0000�?\u0000\u0000\u0000\u0000\u0000\u0000�?\u0000\u0000\u0000\u0000\u0000\u0000�?\u0000\u0000\u0000\u0000\u0000\u0000�?\u0000\u0000\u0000\u0000\u0000\u0000�?\u0000\u0000\u0000\u0000\u0000\u0000�?\u0000\u0000\u0000\u0000\u0000\u0000�?\u0000\u0000\u0000\u0000\u0000\u0000�?\u0000\u0000\u0000\u0000\u0000\u0000�?\u0000\u0000\u0000\u0000\u0000\u0000�?\u0000\u0000\u0000\u0000\u0000\u0000�?\u0000\u0000\u0000\u0000\u0000\u0000�?\u0000\u0000\u0000\u0000\u0000\u0000�?\u0000\u0000\u0000\u0000\u0000\u0000�?\u0000\u0000\u0000\u0000\u0000\u0000�?\u0000\u0000\u0000\u0000\u0000\u0000�?\u0000\u0000\u0000\u0000\u0000\u0000�?#ASDF BLOCK INDEX\r\n",
      "%YAML 1.1\r\n",
      "---\r\n",
      "- 583\r\n",
      "...\r\n"
     ]
    }
   ],
   "source": [
    "!cat mydata.asdf"
   ]
  },
  {
   "cell_type": "markdown",
   "metadata": {},
   "source": [
    "Notice that the structure of the **tree** is reflected in the YAML portion of the file. There is metadata about the data array in the tree, but the actual contents of the array are stored in a binary blob at the end of the file. There is also some file-level metadata that wasn't put there by us, but instead was written by **asdf**.\n",
    "\n",
    "Optionally, it is possible to force the array to be stored inline in the YAML portion of the tree:"
   ]
  },
  {
   "cell_type": "code",
   "execution_count": 10,
   "metadata": {},
   "outputs": [],
   "source": [
    "af.write_to('mydata.inline.asdf', all_array_storage='inline')"
   ]
  },
  {
   "cell_type": "code",
   "execution_count": 22,
   "metadata": {},
   "outputs": [
    {
     "name": "stdout",
     "output_type": "stream",
     "text": [
      "#ASDF 1.0.0\r\n",
      "#ASDF_STANDARD 1.3.0\r\n",
      "%YAML 1.1\r\n",
      "%TAG ! tag:stsci.edu:asdf/\r\n",
      "--- !core/asdf-1.1.0\r\n",
      "asdf_library: !core/software-1.0.0\r\n",
      "  author: Space Telescope Science Institute\r\n",
      "  homepage: http://github.com/spacetelescope/asdf\r\n",
      "  name: asdf\r\n",
      "  version: 2.3.2\r\n",
      "history:\r\n",
      "  extensions:\r\n",
      "  - !core/extension_metadata-1.0.0\r\n",
      "    extension_class: asdf.extension.BuiltinExtension\r\n",
      "    software:\r\n",
      "      name: asdf\r\n",
      "      version: 2.3.2\r\n",
      "data: !core/ndarray-1.0.0\r\n",
      "  data:\r\n",
      "  - - 1.0\r\n",
      "    - 1.0\r\n",
      "    - 1.0\r\n",
      "    - 1.0\r\n",
      "    - 1.0\r\n",
      "    - 1.0\r\n",
      "    - 1.0\r\n",
      "    - 1.0\r\n",
      "    - 1.0\r\n",
      "    - 1.0\r\n",
      "  - - 1.0\r\n",
      "    - 1.0\r\n",
      "    - 1.0\r\n",
      "    - 1.0\r\n",
      "    - 1.0\r\n",
      "    - 1.0\r\n",
      "    - 1.0\r\n",
      "    - 1.0\r\n",
      "    - 1.0\r\n",
      "    - 1.0\r\n",
      "  - - 1.0\r\n",
      "    - 1.0\r\n",
      "    - 1.0\r\n",
      "    - 1.0\r\n",
      "    - 1.0\r\n",
      "    - 1.0\r\n",
      "    - 1.0\r\n",
      "    - 1.0\r\n",
      "    - 1.0\r\n",
      "    - 1.0\r\n",
      "  - - 1.0\r\n",
      "    - 1.0\r\n",
      "    - 1.0\r\n",
      "    - 1.0\r\n",
      "    - 1.0\r\n",
      "    - 1.0\r\n",
      "    - 1.0\r\n",
      "    - 1.0\r\n",
      "    - 1.0\r\n",
      "    - 1.0\r\n",
      "  - - 1.0\r\n",
      "    - 1.0\r\n",
      "    - 1.0\r\n",
      "    - 1.0\r\n",
      "    - 1.0\r\n",
      "    - 1.0\r\n",
      "    - 1.0\r\n",
      "    - 1.0\r\n",
      "    - 1.0\r\n",
      "    - 1.0\r\n",
      "  - - 1.0\r\n",
      "    - 1.0\r\n",
      "    - 1.0\r\n",
      "    - 1.0\r\n",
      "    - 1.0\r\n",
      "    - 1.0\r\n",
      "    - 1.0\r\n",
      "    - 1.0\r\n",
      "    - 1.0\r\n",
      "    - 1.0\r\n",
      "  - - 1.0\r\n",
      "    - 1.0\r\n",
      "    - 1.0\r\n",
      "    - 1.0\r\n",
      "    - 1.0\r\n",
      "    - 1.0\r\n",
      "    - 1.0\r\n",
      "    - 1.0\r\n",
      "    - 1.0\r\n",
      "    - 1.0\r\n",
      "  - - 1.0\r\n",
      "    - 1.0\r\n",
      "    - 1.0\r\n",
      "    - 1.0\r\n",
      "    - 1.0\r\n",
      "    - 1.0\r\n",
      "    - 1.0\r\n",
      "    - 1.0\r\n",
      "    - 1.0\r\n",
      "    - 1.0\r\n",
      "  - - 1.0\r\n",
      "    - 1.0\r\n",
      "    - 1.0\r\n",
      "    - 1.0\r\n",
      "    - 1.0\r\n",
      "    - 1.0\r\n",
      "    - 1.0\r\n",
      "    - 1.0\r\n",
      "    - 1.0\r\n",
      "    - 1.0\r\n",
      "  - - 1.0\r\n",
      "    - 1.0\r\n",
      "    - 1.0\r\n",
      "    - 1.0\r\n",
      "    - 1.0\r\n",
      "    - 1.0\r\n",
      "    - 1.0\r\n",
      "    - 1.0\r\n",
      "    - 1.0\r\n",
      "    - 1.0\r\n",
      "  datatype: float64\r\n",
      "  shape:\r\n",
      "  - 10\r\n",
      "  - 10\r\n",
      "metadata:\r\n",
      "  author: Me\r\n",
      "  name: My Data\r\n",
      "  time: 1553703366.963867\r\n",
      "...\r\n"
     ]
    }
   ],
   "source": [
    "!cat mydata.inline.asdf"
   ]
  },
  {
   "cell_type": "markdown",
   "metadata": {},
   "source": [
    "When we read the file back in from disk, we see our original data structure restored (with a bit of additional metadata):"
   ]
  },
  {
   "cell_type": "code",
   "execution_count": 27,
   "metadata": {},
   "outputs": [
    {
     "data": {
      "text/plain": [
       "{'asdf_library': {'author': 'Space Telescope Science Institute',\n",
       "  'homepage': 'http://github.com/spacetelescope/asdf',\n",
       "  'name': 'asdf',\n",
       "  'version': '2.3.2'},\n",
       " 'history': {'extensions': [<asdf.tags.core.ExtensionMetadata at 0x12191eb70>]},\n",
       " 'data': <array (unloaded) shape: [10, 10] dtype: float64>,\n",
       " 'metadata': {'author': 'Me', 'name': 'My Data', 'time': 1553703366.963867}}"
      ]
     },
     "execution_count": 27,
     "metadata": {},
     "output_type": "execute_result"
    }
   ],
   "source": [
    "new_af = asdf.open('mydata.asdf')\n",
    "new_af.tree"
   ]
  },
  {
   "cell_type": "markdown",
   "metadata": {},
   "source": [
    "Note that for performance reasons, the data array remains unloaded until it is accessed:"
   ]
  },
  {
   "cell_type": "code",
   "execution_count": 28,
   "metadata": {},
   "outputs": [
    {
     "data": {
      "text/plain": [
       "array([[1., 1., 1., 1., 1., 1., 1., 1., 1., 1.],\n",
       "       [1., 1., 1., 1., 1., 1., 1., 1., 1., 1.],\n",
       "       [1., 1., 1., 1., 1., 1., 1., 1., 1., 1.],\n",
       "       [1., 1., 1., 1., 1., 1., 1., 1., 1., 1.],\n",
       "       [1., 1., 1., 1., 1., 1., 1., 1., 1., 1.],\n",
       "       [1., 1., 1., 1., 1., 1., 1., 1., 1., 1.],\n",
       "       [1., 1., 1., 1., 1., 1., 1., 1., 1., 1.],\n",
       "       [1., 1., 1., 1., 1., 1., 1., 1., 1., 1.],\n",
       "       [1., 1., 1., 1., 1., 1., 1., 1., 1., 1.],\n",
       "       [1., 1., 1., 1., 1., 1., 1., 1., 1., 1.]])"
      ]
     },
     "execution_count": 28,
     "metadata": {},
     "output_type": "execute_result"
    }
   ],
   "source": [
    "new_af.tree['data']"
   ]
  },
  {
   "cell_type": "markdown",
   "metadata": {},
   "source": [
    "## More Complex Data"
   ]
  },
  {
   "cell_type": "markdown",
   "metadata": {},
   "source": [
    "The ability to store and retrieve data arrays and arbitrary metadata structures is extremely useful. But the real power of ASDF is demonstrated by its ability to process more complex datatypes. In this section we will show examples of storing Astropy data in ASDF."
   ]
  },
  {
   "cell_type": "code",
   "execution_count": 12,
   "metadata": {},
   "outputs": [],
   "source": [
    "import astropy"
   ]
  },
  {
   "cell_type": "markdown",
   "metadata": {},
   "source": [
    "### Data with units"
   ]
  },
  {
   "cell_type": "markdown",
   "metadata": {},
   "source": [
    "Astropy provides many useful datatypes for astronomical data analysis and processing. Let's revisit the example from above that used a data array. Oftentimes it's useful to assign units to numerical arrays. Astropy allows us to do this:"
   ]
  },
  {
   "cell_type": "code",
   "execution_count": 19,
   "metadata": {},
   "outputs": [
    {
     "name": "stdout",
     "output_type": "stream",
     "text": [
      "<class 'astropy.units.quantity.Quantity'>\n"
     ]
    },
    {
     "data": {
      "text/latex": [
       "$[0.5633423,~0.060291824,~0.69691139,~0.97480791,~0.75570379,~0.48918971,~0.7076413,~0.79867789,~0.50716963,~0.68414445,~0.72724503,~0.87505299,~0.92609204,~0.34484137,~0.95147688,~0.074255074,~0.29291977,~0.81816169,~0.36425154,~0.1123006,~0.60257235,~0.60565052,~0.54116743,~0.74275911,~0.70298961,~0.083862688,~0.077189734,~0.96375796,~0.53064432,~0.55856835,~0.018296124,~0.76210144,~0.19030687,~0.96365407,~0.40018301,~0.27332319,~0.12697452,~0.74975221,~0.69431617,~0.58626024,~0.60984303,~0.58041828,~0.58334713,~0.42434962,~0.70904853,~0.45235555,~0.4690009,~0.40581133,~0.59498298,~0.46091564] \\; \\mathrm{Hz}$"
      ],
      "text/plain": [
       "<Quantity [0.5633423 , 0.06029182, 0.69691139, 0.97480791, 0.75570379,\n",
       "           0.48918971, 0.7076413 , 0.79867789, 0.50716963, 0.68414445,\n",
       "           0.72724503, 0.87505299, 0.92609204, 0.34484137, 0.95147688,\n",
       "           0.07425507, 0.29291977, 0.81816169, 0.36425154, 0.1123006 ,\n",
       "           0.60257235, 0.60565052, 0.54116743, 0.74275911, 0.70298961,\n",
       "           0.08386269, 0.07718973, 0.96375796, 0.53064432, 0.55856835,\n",
       "           0.01829612, 0.76210144, 0.19030687, 0.96365407, 0.40018301,\n",
       "           0.27332319, 0.12697452, 0.74975221, 0.69431617, 0.58626024,\n",
       "           0.60984303, 0.58041828, 0.58334713, 0.42434962, 0.70904853,\n",
       "           0.45235555, 0.4690009 , 0.40581133, 0.59498298, 0.46091564] Hz>"
      ]
     },
     "execution_count": 19,
     "metadata": {},
     "output_type": "execute_result"
    }
   ],
   "source": [
    "import astropy.units as u\n",
    "# Assign units to this data array, which creates a Quantity object\n",
    "data = np.random.random(50) * u.Hz\n",
    "print(type(data))\n",
    "data"
   ]
  },
  {
   "cell_type": "markdown",
   "metadata": {},
   "source": [
    "We can store this new **Quantity** object to an ASDF file:"
   ]
  },
  {
   "cell_type": "code",
   "execution_count": 20,
   "metadata": {},
   "outputs": [],
   "source": [
    "# Create the tree\n",
    "tree = {'data': data}\n",
    "af = asdf.AsdfFile(tree)\n",
    "af.write_to('quantity.asdf')"
   ]
  },
  {
   "cell_type": "code",
   "execution_count": 21,
   "metadata": {},
   "outputs": [
    {
     "name": "stdout",
     "output_type": "stream",
     "text": [
      "#ASDF 1.0.0\r\n",
      "#ASDF_STANDARD 1.3.0\r\n",
      "%YAML 1.1\r\n",
      "%TAG ! tag:stsci.edu:asdf/\r\n",
      "--- !core/asdf-1.1.0\r\n",
      "asdf_library: !core/software-1.0.0\r\n",
      "  author: Space Telescope Science Institute\r\n",
      "  homepage: http://github.com/spacetelescope/asdf\r\n",
      "  name: asdf\r\n",
      "  version: 2.3.2\r\n",
      "history:\r\n",
      "  extensions:\r\n",
      "  - !core/extension_metadata-1.0.0\r\n",
      "    extension_class: asdf.extension.BuiltinExtension\r\n",
      "    software:\r\n",
      "      name: asdf\r\n",
      "      version: 2.3.2\r\n",
      "  - !core/extension_metadata-1.0.0\r\n",
      "    extension_class: astropy.io.misc.asdf.extension.AstropyAsdfExtension\r\n",
      "    software:\r\n",
      "      name: astropy\r\n",
      "      version: 3.1.2\r\n",
      "data: !unit/quantity-1.1.0\r\n",
      "  unit: !unit/unit-1.0.0 Hz\r\n",
      "  value: !core/ndarray-1.0.0\r\n",
      "    source: 0\r\n",
      "    datatype: float64\r\n",
      "    byteorder: little\r\n",
      "    shape:\r\n",
      "    - 50\r\n",
      "...\r\n",
      "�BLK\u00000\u0000\u0000\u0000\u0000\u0000\u0000\u0000\u0000\u0000\u0000\u0000\u0000\u0000\u0000\u0001�\u0000\u0000\u0000\u0000\u0000\u0000\u0001�\u0000\u0000\u0000\u0000\u0000\u0000\u0001�\u0010�,{\u0016Q�û\u0001\u0011\u001c",
      "�\u000b",
      "V�.h�o�\u0006�?P��ޮ?\u0005\u0015�\u001d",
      "\u0019M�?��L[�1�?�&}��.�?�8\u000b",
      "[�N�?\u0007C4^���?\u0011\u0017��Ď�?�j�̻:�?������?݀4_�E�?�H�!o\u0000�?\u0007McƋ��?�\u0005x��\u0011�?\u0001���r�?��\u0001ka\u0002�?򂘍2��?�\u0000�ja.�?�]\\��O�?x\r",
      ")w���?eB��EH�?�(i5}a�?�� [>Q�?�\u0007�����?�i�\u000e�~�?؄�n\u0006x�?�!sش³?�F��\u001a��?��d�\t��?5�K����?��p\u001e",
      "8��?\u0004�1�\"c�?\b�7��[�?U_M\u0011A��?��\r",
      "6���?ܳސ ~�?T��t�@�?I}9Z���?Y��7�?e;�Ԥ��?�x��Ճ�?h��]ɒ�?k�y�Ǫ�?(��S�(�?iϔ����?\u000e�d��?���V\u001c",
      "\u0004�?n\u0013�\u0013���?�P��\u0019\r\n",
      "�?�\u001f�L��?#ASDF BLOCK INDEX\r\n",
      "%YAML 1.1\r\n",
      "---\r\n",
      "- 742\r\n",
      "...\r\n"
     ]
    }
   ],
   "source": [
    "!cat quantity.asdf"
   ]
  },
  {
   "cell_type": "markdown",
   "metadata": {},
   "source": [
    "When we read the file back in, the **Quantity** object is restored:"
   ]
  },
  {
   "cell_type": "code",
   "execution_count": 30,
   "metadata": {},
   "outputs": [
    {
     "data": {
      "text/plain": [
       "{'asdf_library': {'author': 'Space Telescope Science Institute',\n",
       "  'homepage': 'http://github.com/spacetelescope/asdf',\n",
       "  'name': 'asdf',\n",
       "  'version': '2.3.2'},\n",
       " 'history': {'extensions': [<asdf.tags.core.ExtensionMetadata at 0x121920198>,\n",
       "   <asdf.tags.core.ExtensionMetadata at 0x121996048>]},\n",
       " 'data': <Quantity [0.5633423 , 0.06029182, 0.69691139, 0.97480791, 0.75570379,\n",
       "            0.48918971, 0.7076413 , 0.79867789, 0.50716963, 0.68414445,\n",
       "            0.72724503, 0.87505299, 0.92609204, 0.34484137, 0.95147688,\n",
       "            0.07425507, 0.29291977, 0.81816169, 0.36425154, 0.1123006 ,\n",
       "            0.60257235, 0.60565052, 0.54116743, 0.74275911, 0.70298961,\n",
       "            0.08386269, 0.07718973, 0.96375796, 0.53064432, 0.55856835,\n",
       "            0.01829612, 0.76210144, 0.19030687, 0.96365407, 0.40018301,\n",
       "            0.27332319, 0.12697452, 0.74975221, 0.69431617, 0.58626024,\n",
       "            0.60984303, 0.58041828, 0.58334713, 0.42434962, 0.70904853,\n",
       "            0.45235555, 0.4690009 , 0.40581133, 0.59498298, 0.46091564] Hz>}"
      ]
     },
     "execution_count": 30,
     "metadata": {},
     "output_type": "execute_result"
    }
   ],
   "source": [
    "new_af = asdf.open('quantity.asdf')\n",
    "new_af.tree"
   ]
  },
  {
   "cell_type": "code",
   "execution_count": 32,
   "metadata": {},
   "outputs": [
    {
     "data": {
      "text/latex": [
       "$\\mathrm{Hz}$"
      ],
      "text/plain": [
       "Unit(\"Hz\")"
      ]
     },
     "execution_count": 32,
     "metadata": {},
     "output_type": "execute_result"
    }
   ],
   "source": [
    "new_af.tree['data'].unit"
   ]
  },
  {
   "cell_type": "markdown",
   "metadata": {},
   "source": [
    "### Tabular data"
   ]
  },
  {
   "cell_type": "markdown",
   "metadata": {},
   "source": [
    "It is often useful to organize data into tables. Astropy provides the ability to create tables consisting of various datatypes. The following example is taken from the [astropy documentation](http://docs.astropy.org/en/stable/table/construct_table.html#list-of-columns):"
   ]
  },
  {
   "cell_type": "code",
   "execution_count": 34,
   "metadata": {},
   "outputs": [
    {
     "data": {
      "text/html": [
       "<i>Table length=2</i>\n",
       "<table id=\"table4858803032\" class=\"table-striped table-bordered table-condensed\">\n",
       "<thead><tr><th>a</th><th>b</th><th>c</th></tr></thead>\n",
       "<thead><tr><th>int32</th><th>float64</th><th>str1</th></tr></thead>\n",
       "<tr><td>1</td><td>2.0</td><td>x</td></tr>\n",
       "<tr><td>4</td><td>5.0</td><td>y</td></tr>\n",
       "</table>"
      ],
      "text/plain": [
       "<Table length=2>\n",
       "  a      b     c  \n",
       "int32 float64 str1\n",
       "----- ------- ----\n",
       "    1     2.0    x\n",
       "    4     5.0    y"
      ]
     },
     "execution_count": 34,
     "metadata": {},
     "output_type": "execute_result"
    }
   ],
   "source": [
    "from astropy.table import Table\n",
    "a = np.array([1, 4], dtype=np.int32)\n",
    "b = [2.0, 5.0]\n",
    "c = ['x', 'y']\n",
    "t = Table([a, b, c], names=('a', 'b', 'c'))\n",
    "t"
   ]
  },
  {
   "cell_type": "markdown",
   "metadata": {},
   "source": [
    "Astropy tables can be stored to ASDF files transparently:"
   ]
  },
  {
   "cell_type": "code",
   "execution_count": 36,
   "metadata": {},
   "outputs": [],
   "source": [
    "tree = {'table': t}\n",
    "af = asdf.AsdfFile(tree)\n",
    "af.write_to('table.asdf')"
   ]
  },
  {
   "cell_type": "markdown",
   "metadata": {},
   "source": [
    "The table is restored when we read the file:"
   ]
  },
  {
   "cell_type": "code",
   "execution_count": 38,
   "metadata": {},
   "outputs": [
    {
     "data": {
      "text/plain": [
       "{'asdf_library': {'author': 'Space Telescope Science Institute',\n",
       "  'homepage': 'http://github.com/spacetelescope/asdf',\n",
       "  'name': 'asdf',\n",
       "  'version': '2.3.2'},\n",
       " 'history': {'extensions': [<asdf.tags.core.ExtensionMetadata at 0x12191ea20>,\n",
       "   <asdf.tags.core.ExtensionMetadata at 0x12192a710>]},\n",
       " 'table': <Table length=2>\n",
       "   a      b     c  \n",
       " int32 float64 str1\n",
       " ----- ------- ----\n",
       "     1     2.0    x\n",
       "     4     5.0    y}"
      ]
     },
     "execution_count": 38,
     "metadata": {},
     "output_type": "execute_result"
    }
   ],
   "source": [
    "new_af = asdf.open('table.asdf')\n",
    "new_af.tree"
   ]
  },
  {
   "cell_type": "code",
   "execution_count": 39,
   "metadata": {},
   "outputs": [
    {
     "data": {
      "text/html": [
       "<i>Table length=2</i>\n",
       "<table id=\"table4857650480\" class=\"table-striped table-bordered table-condensed\">\n",
       "<thead><tr><th>a</th><th>b</th><th>c</th></tr></thead>\n",
       "<thead><tr><th>int32</th><th>float64</th><th>str1</th></tr></thead>\n",
       "<tr><td>1</td><td>2.0</td><td>x</td></tr>\n",
       "<tr><td>4</td><td>5.0</td><td>y</td></tr>\n",
       "</table>"
      ],
      "text/plain": [
       "<Table length=2>\n",
       "  a      b     c  \n",
       "int32 float64 str1\n",
       "----- ------- ----\n",
       "    1     2.0    x\n",
       "    4     5.0    y"
      ]
     },
     "execution_count": 39,
     "metadata": {},
     "output_type": "execute_result"
    }
   ],
   "source": [
    "new_af.tree['table']"
   ]
  },
  {
   "cell_type": "markdown",
   "metadata": {},
   "source": [
    "## A Note About Extensions"
   ]
  },
  {
   "cell_type": "markdown",
   "metadata": {},
   "source": [
    "ASDF is able to store several datatypes out of the box. These include all native Python datatypes, as well as **numpy** arrays.\n",
    "\n",
    "In order to process more complex datatypes, such as those from Astropy, it is necessary to write custom \"extension\" code for ASDF, which consist of \"tags\" and \"schemas\". Astropy provides an ASDF extension for several key datatypes (including **Quantity** and **Table** shown above). The extension is registered as an ASDF plugin, which enables ASDF to recognize how to process these types when Astropy is installed.\n",
    "\n",
    "More details on extending ASDF in this way can be found in the [documentation](https://asdf.readthedocs.io/en/latest/asdf/extensions.html)."
   ]
  },
  {
   "cell_type": "code",
   "execution_count": null,
   "metadata": {},
   "outputs": [],
   "source": []
  }
 ],
 "metadata": {
  "kernelspec": {
   "display_name": "Python 3",
   "language": "python",
   "name": "python3"
  },
  "language_info": {
   "codemirror_mode": {
    "name": "ipython",
    "version": 3
   },
   "file_extension": ".py",
   "mimetype": "text/x-python",
   "name": "python",
   "nbconvert_exporter": "python",
   "pygments_lexer": "ipython3",
   "version": "3.7.2"
  }
 },
 "nbformat": 4,
 "nbformat_minor": 2
}
